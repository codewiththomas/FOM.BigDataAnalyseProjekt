{
 "cells": [
  {
   "cell_type": "markdown",
   "id": "dbb7f8bf",
   "metadata": {},
   "source": [
    "# Research RAG v3\n",
    "\n",
    "## Aufbau\n",
    "\n",
    "- Modulares System\n",
    "- Orientierung an Advanced RAG in Kombination mit Modulare RAG\n",
    "\n",
    "## Datenquellen\n",
    "\n",
    "- DSGVO\n",
    "- EU AI Act\n",
    "\n",
    "## Evaluation\n"
   ]
  }
 ],
 "metadata": {
  "language_info": {
   "name": "python"
  }
 },
 "nbformat": 4,
 "nbformat_minor": 5
}
