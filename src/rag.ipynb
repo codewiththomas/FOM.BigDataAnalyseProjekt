{
  "cells": [
    {
      "cell_type": "markdown",
      "metadata": {},
      "source": [
        "# 🚀 RAG Research System\n",
        "\n",
        "## Wissenschaftliches RAG-System für Big-Data-Analyse\n",
        "\n",
        "**Einfache Bedienung in 3 Schritten:**\n",
        "1. ⚙️ Konfiguration setzen\n",
        "2. ▶️ Experiment starten\n",
        "3. 📊 Ergebnisse analysieren\n",
        "\n",
        "**Automatische Metriken:**\n",
        "- Precision@5, Recall@5, F1-Score\n",
        "- RAGAS (Context Relevance, Answer Relevance, Faithfulness)\n",
        "- Inferenzgeschwindigkeit (Queries/Sekunde)\n",
        "- MRR, nDCG\n",
        "\n",
        "**Datenbasis:** DSGVO-Verordnung (403KB, 3633 Zeilen)"
      ]
    },
    {
      "cell_type": "code",
      "execution_count": null,
      "metadata": {},
      "outputs": [],
      "source": [
        "# 📦 Setup & Imports\n",
        "import sys\n",
        "import os\n",
        "from pathlib import Path\n",
        "\n",
        "# Pfad-Setup für src/\n",
        "project_root = Path.cwd()\n",
        "if project_root.name == 'src':\n",
        "    project_root = project_root.parent\n",
        "sys.path.insert(0, str(project_root / 'src'))\n",
        "\n",
        "# Core Imports\n",
        "from research_rag import ResearchRAG\n",
        "from dotenv import load_dotenv\n",
        "\n",
        "# API Key laden\n",
        "load_dotenv(project_root / '.env')\n",
        "api_key = os.getenv('OPENAI_API_KEY', 'demo-key')\n",
        "\n",
        "print('✅ Research RAG System bereit')\n",
        "print(f'🔑 API Key: {\"✅ Geladen\" if api_key != \"demo-key\" else \"⚠️ Demo-Modus\"}')"
      ]
    },
    {
      "cell_type": "markdown",
      "metadata": {},
      "source": [
        "## ⚙️ 1. Konfiguration\n",
        "\n",
        "**Wählen Sie Ihre RAG-Komponenten:**"
      ]
    },
    {
      "cell_type": "code",
      "execution_count": null,
      "metadata": {},
      "outputs": [],
      "source": [
        "# 🔧 RAG-Konfiguration (einfach anpassen)\n",
        "config = {\n",
        "    # Chunking-Strategie\n",
        "    'chunker': 'line',  # 'line' oder 'recursive'\n",
        "    'chunk_size': 1000,\n",
        "    'chunk_overlap': 200,\n",
        "    \n",
        "    # Embedding-Modell\n",
        "    'embedding': 'sentence_transformers',  # 'sentence_transformers' oder 'openai'\n",
        "    \n",
        "    # Vector Store\n",
        "    'vector_store': 'in_memory',  # 'in_memory' oder 'chroma'\n",
        "    \n",
        "    # Language Model\n",
        "    'llm': 'openai',  # 'openai' oder 'local'\n",
        "    'api_key': api_key,\n",
        "    \n",
        "    # Evaluation\n",
        "    'num_test_questions': 5,  # Anzahl Test-Fragen\n",
        "    'top_k': 5  # Top-K für Retrieval\n",
        "}\n",
        "\n",
        "print('⚙️ Konfiguration:')\n",
        "for key, value in config.items():\n",
        "    if key != 'api_key':\n",
        "        print(f'   {key}: {value}')\n",
        "print('✅ Konfiguration bereit')"
      ]
    },
    {
      "cell_type": "markdown",
      "metadata": {},
      "source": [
        "## ▶️ 2. Experiment starten\n",
        "\n",
        "**Ein Klick - Vollständige Evaluation:**"
      ]
    },
    {
      "cell_type": "code",
      "execution_count": null,
      "metadata": {},
      "outputs": [],
      "source": [
        "# 🚀 RAG-System initialisieren und ausführen\n",
        "rag = ResearchRAG(config)\n",
        "\n",
        "print('🔄 Starte vollständige RAG-Evaluation...')\n",
        "print('   📄 Lade DSGVO-Daten')\n",
        "print('   🔧 Initialisiere Komponenten')\n",
        "print('   📊 Führe Evaluation durch')\n",
        "print('   ⏱️ Messe Performance')\n",
        "\n",
        "# Vollständige Evaluation mit allen Metriken\n",
        "results = rag.run_full_evaluation()\n",
        "\n",
        "print('\\n✅ Evaluation abgeschlossen!')"
      ]
    },
    {
      "cell_type": "markdown",
      "metadata": {},
      "source": [
        "## 📊 3. Ergebnisse & Analyse\n",
        "\n",
        "**Wissenschaftliche Metriken:**"
      ]
    },
    {
      "cell_type": "code",
      "execution_count": null,
      "metadata": {},
      "outputs": [],
      "source": [
        "# 📈 Ergebnisse anzeigen\n",
        "rag.display_results(results)"
      ]
    }
  ],
  "metadata": {
    "kernelspec": {
      "display_name": "Python 3",
      "language": "python",
      "name": "python3"
    },
    "language_info": {
      "codemirror_mode": {
        "name": "ipython",
        "version": 3
      },
      "file_extension": ".py",
      "mimetype": "text/x-python",
      "name": "python",
      "nbconvert_exporter": "python",
      "pygments_lexer": "ipython3",
      "version": "3.12.0"
    }
  },
  "nbformat": 4,
  "nbformat_minor": 4
}