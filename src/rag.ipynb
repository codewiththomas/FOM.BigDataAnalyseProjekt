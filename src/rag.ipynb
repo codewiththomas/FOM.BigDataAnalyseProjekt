{
 "cells": [
  {
   "cell_type": "code",
   "execution_count": null,
   "metadata": {
    "vscode": {
     "languageId": "plaintext"
    }
   },
   "outputs": [],
   "source": [
    "# RAG für Big-Data-Analyseprojekt\n",
    "\n",
    "Dieses Notebook demonstriert ein einfaches RAG-System mit verschiedenen Komponenten.\n"
   ]
  },
  {
   "cell_type": "code",
   "execution_count": 10,
   "metadata": {},
   "outputs": [
    {
     "name": "stderr",
     "output_type": "stream",
     "text": [
      "d:\\FOM\\Repos\\FOM.BigDataAnalyseProjekt\\.venv\\Lib\\site-packages\\tqdm\\auto.py:21: TqdmWarning: IProgress not found. Please update jupyter and ipywidgets. See https://ipywidgets.readthedocs.io/en/stable/user_install.html\n",
      "  from .autonotebook import tqdm as notebook_tqdm\n"
     ]
    }
   ],
   "source": [
    "# Imports und Setup\n",
    "import sys\n",
    "sys.path.append('.')\n",
    "\n",
    "import os\n",
    "from dotenv import load_dotenv\n",
    "from config import RAGConfig\n",
    "from experiments import ExperimentRunner\n"
   ]
  },
  {
   "cell_type": "code",
   "execution_count": null,
   "metadata": {},
   "outputs": [
    {
     "name": "stdout",
     "output_type": "stream",
     "text": [
      "OpenAI Key geladen: Ja\n"
     ]
    }
   ],
   "source": [
    "# OpenAI API Key laden\n",
    "# Lade .env aus dem Hauptverzeichnis\n",
    "load_dotenv('../.env')  # Falls Notebook im src/ Ordner läuft\n",
    "if not os.getenv(\"OPENAI_API_KEY\"):\n",
    "    load_dotenv('.env')  # Falls Notebook im Hauptverzeichnis läuft\n",
    "\n",
    "openai_key = os.getenv(\"OPENAI_API_KEY\")\n",
    "print(f\"OpenAI Key geladen: {'Ja' if openai_key else 'Nein'}\")\n",
    "if openai_key:\n",
    "    print(f\"Key beginnt mit: {openai_key[:10]}...\")\n",
    "else:\n",
    "    print(\"⚠️ Kein API Key gefunden! Prüfen Sie Ihre .env-Datei.\")"
   ]
  },
  {
   "cell_type": "code",
   "execution_count": 12,
   "metadata": {},
   "outputs": [
    {
     "name": "stdout",
     "output_type": "stream",
     "text": [
      "Konfiguration: RAGConfig(chunker_type='line', chunker_params={}, embedding_type='sentence_transformers', embedding_params={}, vector_store_type='in_memory', vector_store_params={}, language_model_type='openai', language_model_params={'api_key': 'your-api-key-here'})\n"
     ]
    }
   ],
   "source": [
    "# RAG-Konfiguration\n",
    "config = RAGConfig(\n",
    "    chunker_type=\"line\",\n",
    "    embedding_type=\"sentence_transformers\",\n",
    "    vector_store_type=\"in_memory\",\n",
    "    language_model_type=\"openai\",\n",
    "    language_model_params={\"api_key\": openai_key}\n",
    ")\n",
    "print(f\"Konfiguration: {config}\")\n"
   ]
  },
  {
   "cell_type": "code",
   "execution_count": 13,
   "metadata": {},
   "outputs": [
    {
     "name": "stdout",
     "output_type": "stream",
     "text": [
      "Testdaten: 4 Dokumente\n"
     ]
    }
   ],
   "source": [
    "# Testdaten\n",
    "test_data = [\n",
    "    \"Big Data Analyse ist ein Prozess zur Untersuchung großer Datenmengen.\",\n",
    "    \"Machine Learning ist ein Teilgebiet der künstlichen Intelligenz.\",\n",
    "    \"Datenverarbeitung umfasst die systematische Analyse von Informationen.\",\n",
    "    \"Algorithmen sind Schritt-für-Schritt-Anweisungen zur Problemlösung.\"\n",
    "]\n",
    "print(f\"Testdaten: {len(test_data)} Dokumente\")\n"
   ]
  },
  {
   "cell_type": "code",
   "execution_count": 14,
   "metadata": {},
   "outputs": [
    {
     "name": "stdout",
     "output_type": "stream",
     "text": [
      "🚀 Starte RAG-Experiment...\n",
      "Experiment mit Konfiguration: RAGConfig(chunker_type='line', chunker_params={}, embedding_type='sentence_transformers', embedding_params={}, vector_store_type='in_memory', vector_store_params={}, language_model_type='openai', language_model_params={'api_key': 'your-api-key-here'})\n",
      "Testdaten: 4 Dokumente\n",
      "Verarbeitet: 4 Dokumente -> 4 Chunks\n",
      "\n",
      "📊 Ergebnisse:\n",
      "Testdaten: 4 Dokumente\n",
      "Frage: Was ist Big Data Analyse?\n",
      "Antwort: Fehler bei der Antwortgenerierung: Error code: 401 - {'error': {'message': 'Incorrect API key provided: your-api*****here. You can find your API key at https://platform.openai.com/account/api-keys.', 'type': 'invalid_request_error', 'param': None, 'code': 'invalid_api_key'}}\n",
      "Status: completed\n",
      "\n",
      "✅ RAG-System erfolgreich getestet!\n"
     ]
    }
   ],
   "source": [
    "# Experiment ausführen\n",
    "print(\"🚀 Starte RAG-Experiment...\")\n",
    "runner = ExperimentRunner()\n",
    "result = runner.run_experiment(config, test_data)\n",
    "\n",
    "print(\"\\n📊 Ergebnisse:\")\n",
    "print(f\"Testdaten: {result['test_data_count']} Dokumente\")\n",
    "print(f\"Frage: {result['test_question']}\")\n",
    "print(f\"Antwort: {result['response']}\")\n",
    "print(f\"Status: {result['status']}\")\n",
    "\n",
    "print(\"\\n✅ RAG-System erfolgreich getestet!\")\n"
   ]
  },
  {
   "cell_type": "code",
   "execution_count": null,
   "metadata": {},
   "outputs": [],
   "source": [
    "# Eigene Fragen stellen\n",
    "from rag_system import RAGSystem\n",
    "\n",
    "# RAG-System erstellen\n",
    "rag = RAGSystem(config)\n",
    "rag.process_documents(test_data)\n",
    "\n",
    "# Eigene Fragen\n",
    "questions = [\n",
    "    \"Was ist Machine Learning?\",\n",
    "    \"Wie funktioniert Datenverarbeitung?\",\n",
    "    \"Was sind Algorithmen?\"\n",
    "]\n",
    "\n",
    "for question in questions:\n",
    "    print(f\"\\n❓ Frage: {question}\")\n",
    "    answer = rag.query(question)\n",
    "    print(f\"💡 Antwort: {answer}\")\n"
   ]
  },
  {
   "cell_type": "code",
   "execution_count": null,
   "metadata": {},
   "outputs": [],
   "source": [
    "## Alternative: API-Key direkt setzen\n",
    "\n",
    "Falls die .env-Datei nicht funktioniert, können Sie den API-Key auch direkt hier setzen:\n"
   ]
  },
  {
   "cell_type": "code",
   "execution_count": null,
   "metadata": {},
   "outputs": [],
   "source": [
    "# Uncomment und setzen Sie Ihren API-Key hier, falls .env nicht funktioniert:\n",
    "# openai_key = \"sk-proj-72W***DwA\"  # Ihr echter API-Key hier\n",
    "\n",
    "# Prüfen ob Key gesetzt ist\n",
    "if not openai_key:\n",
    "    print(\"❌ Kein API-Key gefunden!\")\n",
    "    print(\"Bitte setzen Sie entweder:\")\n",
    "    print(\"1. OPENAI_API_KEY in der .env-Datei, oder\")\n",
    "    print(\"2. Uncomment die Zeile oben und setzen Ihren Key direkt\")\n",
    "else:\n",
    "    print(f\"✅ API-Key ist gesetzt: {openai_key[:10]}...\")\n"
   ]
  }
 ],
 "metadata": {
  "language_info": {
   "name": "python"
  }
 },
 "nbformat": 4,
 "nbformat_minor": 2
}
