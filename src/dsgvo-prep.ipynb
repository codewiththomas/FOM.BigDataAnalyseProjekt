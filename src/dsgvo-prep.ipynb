{
 "cells": [
  {
   "cell_type": "code",
   "execution_count": 2,
   "id": "ffded453",
   "metadata": {},
   "outputs": [],
   "source": [
    "from typing import Dict, Literal, Sequence"
   ]
  },
  {
   "cell_type": "markdown",
   "id": "7a9b5d9c",
   "metadata": {},
   "source": [
    "# Load "
   ]
  },
  {
   "cell_type": "code",
   "execution_count": null,
   "id": "d56da9d0",
   "metadata": {},
   "outputs": [],
   "source": [
    "from dataclasses import dataclass\n",
    "from typing import Dict\n",
    "\n",
    "@dataclass\n",
    "class DSGVOEntry:\n",
    "    \"\"\"Repräsentiert einen DSGVO-Eintrag mit hierarchischer Struktur\"\"\"\n",
    "    kapitel_nr: int\n",
    "    kapitel_name: str\n",
    "    abschnitt_nr: int       # 0 falls nicht vorhanden\n",
    "    abschnitt_name: str     # \"\" falls nicht vorhanden\n",
    "    artikel_nr: int\n",
    "    artikel_name: str\n",
    "    absatz_nr: int          # 0 falls nicht explizit durch (#) angegeben\n",
    "    unterabsatz_nr: int     # 0 falls nicht explizit durch (a), (b), (c), ... angegeben, ansonsten a=1, b=2, c=3, ...\n",
    "    satz_nr: int            # 1 falls nicht explizit durch <sup>#</sup> angegeben\n",
    "    text: str\n",
    "\n",
    "    def to_dict(self) -> Dict:\n",
    "        \"\"\"Konvertiert den Eintrag zu einem Dictionary für JSONL-Export\"\"\"\n",
    "        return {\n",
    "            'Kapitel_Nr': self.kapitel_nr,\n",
    "            'Kapitel_Name': self.kapitel_name,\n",
    "            'Abschnitt_Nr': self.abschnitt_nr,\n",
    "            'Abschnitt_Name': self.abschnitt_name,\n",
    "            'Artikel_nr': self.artikel_nr,\n",
    "            'Artikel_Name': self.artikel_name,\n",
    "            'Absatz_nr': self.absatz_nr,\n",
    "            'Unterabsatz_nr': self.unterabsatz_nr,\n",
    "            'Satz_nr': self.satz_nr,\n",
    "            'Text': self.text\n",
    "        }"
   ]
  },
  {
   "cell_type": "code",
   "execution_count": 24,
   "id": "729b23c1",
   "metadata": {},
   "outputs": [],
   "source": [
    "import json\n",
    "\n",
    "dsgvo_entries = []\n",
    "\n",
    "def load_dsgvo_data():\n",
    "    with open(\"../data/output/dsgvo_crawled_2025-08-11_1804.jsonl\", \"r\") as f:\n",
    "        for line in f:\n",
    "            data = json.loads(line)\n",
    "            dsgvo_entry = DSGVOEntry(\n",
    "                kapitel_nr=data[\"Kapitel_Nr\"],\n",
    "                kapitel_name=data[\"Kapitel_Name\"],\n",
    "                abschnitt_nr=data[\"Abschnitt_Nr\"],\n",
    "                abschnitt_name=data[\"Abschnitt_Name\"],\n",
    "                artikel_nr=data[\"Artikel_nr\"],\n",
    "                artikel_name=data[\"Artikel_Name\"],\n",
    "                absatz_nr=data[\"Absatz_nr\"],\n",
    "                unterabsatz_nr=data[\"Unterabsatz_nr\"],\n",
    "                satz_nr=data[\"Satz_nr\"],\n",
    "                text=data[\"Text\"]\n",
    "            )\n",
    "            dsgvo_entries.append(dsgvo_entry)\n",
    "\n",
    "load_dsgvo_data()"
   ]
  },
  {
   "cell_type": "code",
   "execution_count": 4,
   "id": "ad03b5f3",
   "metadata": {},
   "outputs": [],
   "source": [
    "def generate_normal_questions(\n",
    "    batch: Sequence, prompt_type: Literal[\"question\", \"imperative\"], open_ai_client\n",
    ") -> Sequence:\n",
    "    \"\"\"Generate questions for context.\"\"\"\n",
    "    results = []\n",
    "    _prompt = prompts[prompt_type]\n",
    "    for doc in batch:\n",
    "        llm_response: OpenAiChatResult = open_ai_client(\n",
    "            prompt=_prompt.format(context=doc[\"context\"]),\n",
    "            completion_kwargs={\"temperature\": random.uniform(0.0, 1.0), \"max_tokens\": 750},  # noqa: S311\n",
    "        )\n",
    "        result = {\n",
    "            \"_key\": doc[\"_key\"],\n",
    "            f\"meta_data_{prompt_type}\": meta_data_factory(),\n",
    "            f\"llm_response_{prompt_type}\": asdict(llm_response),\n",
    "        }\n",
    "        results.append(result)\n",
    "        print(result)\n",
    "        print(\"---\")\n",
    "        print(llm_response.content)\n",
    "        print()\n",
    "    return results"
   ]
  },
  {
   "cell_type": "code",
   "execution_count": 32,
   "id": "92764407",
   "metadata": {},
   "outputs": [],
   "source": [
    "import os\n",
    "\n",
    "from dotenv import load_dotenv\n",
    "from openai import OpenAI\n",
    "\n",
    "load_dotenv()\n",
    "OPENAI_API_KEY = os.getenv('OPENAI_API_KEY')\n",
    "\n",
    "client = OpenAI(api_key=OPENAI_API_KEY)"
   ]
  },
  {
   "cell_type": "code",
   "execution_count": null,
   "id": "c8f2a7ff",
   "metadata": {},
   "outputs": [],
   "source": [
    "expected_output_schema = {\n",
    "\t\"type\": \"object\",\n",
    "    \"properties\": {\n",
    "\t\t\"questions\": {\n",
    "\t\t\t\"type\": \"array\",\n",
    "\t\t\t\"items\": { \"type\": \"string\" }\n",
    "\t\t}\n",
    "\t},\n",
    "    \"required\": [\"questions\"],\n",
    "    \"additionalProperties\": False\n",
    "}"
   ]
  },
  {
   "cell_type": "code",
   "execution_count": null,
   "id": "cb0d5b90",
   "metadata": {},
   "outputs": [],
   "source": [
    "def create_normal_questions(dsgvo_entry: DSGVOEntry):\n",
    "    response = client.responses.create(\n",
    "\t    model = \"gpt-5-nano\",\n",
    "        input = [\n",
    "\t\t    {\n",
    "\t\t\t    \"role\": \"user\",\n",
    "\t\t\t    \"content\": \"\"\"\n",
    "Erstelle 6 Fragen in Deutscher Sprache zu folgendem Text.\n",
    "Es muss möglich sein die Frage anhand des Textes zu beantworten.\n",
    "Die Fragen sollen nicht die Wörter \"und\" enthalten.\n",
    "\n",
    "Hier der Text:\n",
    "\n",
    "{dsgvo_entry.text}\n",
    "\n",
    "Die Fragen:\n",
    "\n",
    "\"\"\"\n",
    "\t\t    }\n",
    "\t    ],\n",
    "        text = {\n",
    "\t\t\t\"format\": {\n",
    "\t\t\t\t\"type\": \"json_schema\",\n",
    "\t\t\t\t\"name\": \"question_item\",\n",
    "\t\t\t\t\"schema\": expected_output_schema,\n",
    "\t\t\t\t\"strict\": True\n",
    "\t\t\t}\n",
    "    \t}\n",
    "    )\n",
    "    return response"
   ]
  },
  {
   "cell_type": "code",
   "execution_count": 48,
   "id": "521511a6",
   "metadata": {},
   "outputs": [
    {
     "name": "stdout",
     "output_type": "stream",
     "text": [
      "Was wird im Text als Zweck der Verarbeitung genannt?\n",
      "Welche Datenarten werden im Text erfasst?\n",
      "Welche Rechtsgrundlage für die Verarbeitung wird im Text genannt?\n",
      "Welche Speicherdauer der Verarbeitung wird im Text genannt?\n",
      "Welche Rechte der betroffenen Personen werden im Text genannt?\n",
      "Welche technischen oder organisatorischen Maßnahmen zur Sicherheit der Verarbeitung werden im Text beschrieben?\n"
     ]
    }
   ],
   "source": [
    "for dsgvo_entry in dsgvo_entries:\n",
    "    response = create_normal_questions(dsgvo_entry)\n",
    "    questions = json.loads(response.output_text)[\"questions\"]\n",
    "    for question in questions:\n",
    "        print(question)\n",
    "    break"
   ]
  }
 ],
 "metadata": {
  "kernelspec": {
   "display_name": ".venv",
   "language": "python",
   "name": "python3"
  },
  "language_info": {
   "codemirror_mode": {
    "name": "ipython",
    "version": 3
   },
   "file_extension": ".py",
   "mimetype": "text/x-python",
   "name": "python",
   "nbconvert_exporter": "python",
   "pygments_lexer": "ipython3",
   "version": "3.12.7"
  }
 },
 "nbformat": 4,
 "nbformat_minor": 5
}
