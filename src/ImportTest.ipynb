{
 "cells": [
  {
   "cell_type": "code",
   "execution_count": 1,
   "id": "c834a619",
   "metadata": {},
   "outputs": [
    {
     "name": "stdout",
     "output_type": "stream",
     "text": [
      "Versuch 1 erfolgreich!\n",
      "✅ LineChunker erfolgreich importiert!\n"
     ]
    }
   ],
   "source": [
    "import sys\n",
    "import os\n",
    "from pathlib import Path\n",
    "\n",
    "from components.chunkers.line_chunker import LineChunker\n",
    "\n",
    "# Robuste Import-Lösung die überall funktioniert\n",
    "def setup_imports():\n",
    "    \"\"\"Stellt sicher, dass Imports überall funktionieren.\"\"\"\n",
    "    try:\n",
    "        # Versuch 1: Installiertes Paket\n",
    "        from components.chunkers.line_chunker import LineChunker\n",
    "        print(\"Versuch 1 erfolgreich!\")\n",
    "        return LineChunker\n",
    "    except ImportError:\n",
    "        # Versuch 2: Direkter Pfad zum src/ Verzeichnis\n",
    "        current_dir = Path.cwd()\n",
    "\n",
    "        # Suche nach src/ Verzeichnis (auch wenn wir in einem Unterverzeichnis sind)\n",
    "        src_dir = None\n",
    "        for parent in [current_dir] + list(current_dir.parents):\n",
    "            potential_src = parent / \"src\"\n",
    "            if potential_src.exists() and (potential_src / \"components\").exists():\n",
    "                src_dir = parent\n",
    "                break\n",
    "\n",
    "        if src_dir:\n",
    "            sys.path.insert(0, str(src_dir))\n",
    "            from src.components.chunkers.line_chunker import LineChunker\n",
    "            return LineChunker\n",
    "        else:\n",
    "            raise ImportError(\"Konnte src/ Verzeichnis nicht finden. Stellen Sie sicher, dass Sie im Projektverzeichnis sind.\")\n",
    "\n",
    "# Import durchführen\n",
    "LineChunker = setup_imports()\n",
    "print(\"✅ LineChunker erfolgreich importiert!\")"
   ]
  },
  {
   "cell_type": "code",
   "execution_count": 3,
   "id": "bedfc613",
   "metadata": {},
   "outputs": [
    {
     "name": "stdout",
     "output_type": "stream",
     "text": [
      "Import erfolgreich!\n",
      "LineChunker Klasse: <class 'components.chunkers.line_chunker.LineChunker'>\n",
      "Chunker erstellt: LineChunker(chunk_size=100, overlap=10)\n",
      "Chunks erstellt: ['Dies ist ein Test.\\nDies ist eine zweite Zeile.\\nUnd dies ist eine dritte Zeile.']\n"
     ]
    }
   ],
   "source": [
    "# Test des LineChunker Imports\n",
    "print(\"Import erfolgreich!\")\n",
    "print(f\"LineChunker Klasse: {LineChunker}\")\n",
    "\n",
    "# Erstelle eine Instanz zum Testen\n",
    "chunker = LineChunker(chunk_size=100, overlap=10)\n",
    "print(f\"Chunker erstellt: {chunker}\")\n",
    "\n",
    "# Test mit einem einfachen Text\n",
    "test_text = \"Dies ist ein Test.\\nDies ist eine zweite Zeile.\\nUnd dies ist eine dritte Zeile.\"\n",
    "chunks = chunker.chunk_text(test_text)\n",
    "print(f\"Chunks erstellt: {chunks}\")\n"
   ]
  }
 ],
 "metadata": {
  "kernelspec": {
   "display_name": ".venv",
   "language": "python",
   "name": "python3"
  },
  "language_info": {
   "codemirror_mode": {
    "name": "ipython",
    "version": 3
   },
   "file_extension": ".py",
   "mimetype": "text/x-python",
   "name": "python",
   "nbconvert_exporter": "python",
   "pygments_lexer": "ipython3",
   "version": "3.12.7"
  }
 },
 "nbformat": 4,
 "nbformat_minor": 5
}
