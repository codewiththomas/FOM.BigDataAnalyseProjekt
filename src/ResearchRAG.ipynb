{
  "cells": [
    {
      "cell_type": "raw",
      "metadata": {
        "vscode": {
          "languageId": "raw"
        }
      },
      "source": [
        "# ResearchRAG - Einfaches RAG-System\n",
        "\n",
        "Dieses Notebook demonstriert die Grundfunktionen des modularen RAG-Systems für die DSGVO-Analyse.\n",
        "\n",
        "## Schnellstart\n",
        "1. Setup ausführen\n",
        "2. Pipeline erstellen  \n",
        "3. Dokumente indexieren\n",
        "4. Fragen stellen\n",
        "\n",
        "**Hinweis:** Dieses Notebook verwendet die modularen Komponenten aus dem `src/` Verzeichnis.\n",
        "**Wichtig:** Führen Sie das Notebook aus dem `src/` Verzeichnis aus!\n"
      ]
    },
    {
      "cell_type": "raw",
      "metadata": {
        "vscode": {
          "languageId": "raw"
        }
      },
      "source": [
        "## 1. Setup\n"
      ]
    },
    {
      "cell_type": "code",
      "execution_count": null,
      "metadata": {},
      "outputs": [
        {
          "name": "stdout",
          "output_type": "stream",
          "text": [
            "✅ OpenAI API Key gefunden\n",
            "sk-proj-72...SDwA\n",
            "✅ Setup abgeschlossen\n"
          ]
        }
      ],
      "source": [
        "# Imports und Grundsetup\n",
        "import os\n",
        "import sys\n",
        "from pathlib import Path\n",
        "\n",
        "sys.path.append('.')\n",
        "\n",
        "# Modulare Komponenten importieren\n",
        "#from config.pipeline_configs import get_baseline_config\n",
        "#from core.rag_pipeline import RAGPipeline\n",
        "\n",
        "# API-Schlüssel prüfen\n",
        "if not os.getenv(\"OPENAI_API_KEY\"):\n",
        "    print(\"⚠️  OPENAI_API_KEY nicht gesetzt!\")\n",
        "    print(\"Setzen Sie Ihren API-Schlüssel:\")\n",
        "    print(\"os.environ['OPENAI_API_KEY'] = 'sk-your-key-here'\")\n",
        "    # Uncomment und Key einfügen:\n",
        "    # os.environ['OPENAI_API_KEY'] = 'sk-your-key-here'\n",
        "else:\n",
        "    print(\"✅ OpenAI API Key gefunden:\")\n",
        "    #Show part of the key (first 10 and last 4 characters)\n",
        "    print(os.getenv(\"OPENAI_API_KEY\")[:10] + \"...\" + os.getenv(\"OPENAI_API_KEY\")[-4:])\n",
        "\n",
        "print(\"✅ Setup abgeschlossen\")\n"
      ]
    },
    {
      "cell_type": "raw",
      "metadata": {
        "vscode": {
          "languageId": "raw"
        }
      },
      "source": [
        "## 2. Pipeline erstellen\n"
      ]
    },
    {
      "cell_type": "code",
      "execution_count": null,
      "metadata": {},
      "outputs": [],
      "source": [
        "# Baseline-Konfiguration laden\n",
        "config = get_baseline_config()\n",
        "print(f\"📋 Konfiguration: {config.get_component_types()}\")\n",
        "\n",
        "# Echte RAG-Pipeline erstellen\n",
        "pipeline = RAGPipeline(config)\n",
        "print(\"✅ Modulare RAG-Pipeline erstellt\")\n"
      ]
    },
    {
      "cell_type": "raw",
      "metadata": {
        "vscode": {
          "languageId": "raw"
        }
      },
      "source": [
        "## 3. Dokumente indexieren\n"
      ]
    },
    {
      "cell_type": "code",
      "execution_count": null,
      "metadata": {},
      "outputs": [],
      "source": [
        "# DSGVO-Dokument laden (relativ zum Projektroot)\n",
        "dsgvo_file = \"../data/raw/dsgvo.txt\"\n",
        "\n",
        "# Prüfen ob Datei existiert\n",
        "if not os.path.exists(dsgvo_file):\n",
        "    print(f\"❌ Datei nicht gefunden: {dsgvo_file}\")\n",
        "    print(\"Erstelle Beispiel-Datei...\")\n",
        "    \n",
        "    # Verzeichnis erstellen\n",
        "    Path(dsgvo_file).parent.mkdir(parents=True, exist_ok=True)\n",
        "    \n",
        "    # Beispiel-DSGVO-Text\n",
        "    sample_text = \"\"\"\n",
        "VERORDNUNG (EU) 2016/679 - DATENSCHUTZ-GRUNDVERORDNUNG\n",
        "\n",
        "Artikel 1 - Gegenstand und Ziele\n",
        "(1) Diese Verordnung enthält Vorschriften zum Schutz natürlicher Personen bei der Verarbeitung personenbezogener Daten.\n",
        "(2) Diese Verordnung schützt die Grundrechte und Grundfreiheiten natürlicher Personen.\n",
        "\n",
        "Artikel 83 - Geldbußen\n",
        "(5) Verstöße gegen bestimmte Bestimmungen werden mit Geldbußen von bis zu 20 000 000 EUR oder 4 % des weltweiten Jahresumsatzes geahndet.\n",
        "\n",
        "Artikel 7 - Bedingungen für die Einwilligung\n",
        "(1) Beruht die Verarbeitung auf einer Einwilligung, muss der Verantwortliche nachweisen können, dass die betroffene Person in die Verarbeitung eingewilligt hat.\n",
        "\n",
        "Artikel 15 - Auskunftsrecht der betroffenen Person\n",
        "(1) Die betroffene Person hat das Recht, eine Bestätigung darüber zu verlangen, ob sie betreffende personenbezogene Daten verarbeitet werden.\n",
        "    \"\"\"\n",
        "    \n",
        "    with open(dsgvo_file, 'w', encoding='utf-8') as f:\n",
        "        f.write(sample_text)\n",
        "    \n",
        "    print(\"✅ Beispiel-Datei erstellt\")\n",
        "\n",
        "# Dokument laden und indexieren\n",
        "documents = pipeline.load_documents_from_file(dsgvo_file)\n",
        "print(f\"📄 {len(documents)} Dokument(e) geladen\")\n",
        "\n",
        "# Indexierung\n",
        "print(\"🔄 Indexiere Dokumente...\")\n",
        "stats = pipeline.index_documents(documents)\n",
        "print(f\"✅ {stats['total_chunks']} Chunks indexiert\")\n"
      ]
    },
    {
      "cell_type": "raw",
      "metadata": {
        "vscode": {
          "languageId": "raw"
        }
      },
      "source": [
        "## 4. Fragen stellen\n"
      ]
    },
    {
      "cell_type": "code",
      "execution_count": null,
      "metadata": {},
      "outputs": [],
      "source": [
        "# Einfache Abfrage-Funktion\n",
        "def frage_stellen(frage):\n",
        "    \"\"\"Stellt eine Frage an das RAG-System.\"\"\"\n",
        "    print(f\"❓ Frage: {frage}\")\n",
        "    print(\"-\" * 50)\n",
        "    \n",
        "    result = pipeline.query(frage)\n",
        "    \n",
        "    print(f\"💬 Antwort: {result['answer']}\")\n",
        "    print(f\"⏱️  Zeit: {result['query_time']:.2f}s\")\n",
        "    print(\"=\" * 50)\n",
        "    \n",
        "    return result\n",
        "\n",
        "# Beispiel-Frage\n",
        "frage_stellen(\"Was ist die maximale Geldbuße nach der DSGVO?\")\n"
      ]
    },
    {
      "cell_type": "code",
      "execution_count": null,
      "metadata": {},
      "outputs": [],
      "source": [
        "# Weitere Beispiel-Fragen\n",
        "beispiel_fragen = [\n",
        "    \"Welche Rechte haben betroffene Personen?\",\n",
        "    \"Was ist eine Einwilligung?\",\n",
        "    \"Was regelt Artikel 1 der DSGVO?\"\n",
        "]\n",
        "\n",
        "for frage in beispiel_fragen:\n",
        "    frage_stellen(frage)\n",
        "    print()\n"
      ]
    },
    {
      "cell_type": "code",
      "execution_count": null,
      "metadata": {},
      "outputs": [],
      "source": [
        "# Eigene Frage stellen\n",
        "# Ändern Sie hier Ihre Frage:\n",
        "meine_frage = \"Ihre Frage hier eingeben\"\n",
        "\n",
        "# Frage stellen (nur ausführen wenn Frage geändert wurde)\n",
        "if meine_frage != \"Ihre Frage hier eingeben\":\n",
        "    frage_stellen(meine_frage)\n",
        "else:\n",
        "    print(\"💡 Ändern Sie 'meine_frage' oben und führen Sie die Zelle erneut aus\")\n"
      ]
    },
    {
      "cell_type": "raw",
      "metadata": {
        "vscode": {
          "languageId": "raw"
        }
      },
      "source": [
        "## 5. Pipeline-Informationen\n"
      ]
    },
    {
      "cell_type": "code",
      "execution_count": null,
      "metadata": {},
      "outputs": [],
      "source": [
        "# Pipeline-Status anzeigen\n",
        "print(\"📊 Pipeline-Status:\")\n",
        "print(f\"  Indexiert: {'✅' if pipeline.is_indexed else '❌'}\")\n",
        "print(f\"  Dokumente: {pipeline.indexed_document_count}\")\n",
        "\n",
        "# Komponenten anzeigen\n",
        "print(\"\\n🔧 Komponenten:\")\n",
        "components = pipeline.get_component_info()\n",
        "for name, info in components.items():\n",
        "    print(f\"  {name}: {info['type']}\")\n",
        "\n",
        "print(\"\\n✅ System bereit für Experimente!\")\n"
      ]
    },
    {
      "cell_type": "raw",
      "metadata": {
        "vscode": {
          "languageId": "raw"
        }
      },
      "source": [
        "---\n",
        "\n",
        "## Nächste Schritte\n",
        "\n",
        "Das System ist jetzt einsatzbereit! Sie können:\n",
        "\n",
        "1. **Eigene Fragen stellen** - Ändern Sie `meine_frage` oben\n",
        "2. **Eigene Dokumente laden** - Ersetzen Sie `../data/raw/dsgvo.txt`\n",
        "3. **Komponenten austauschen** - Verwenden Sie andere Konfigurationen\n",
        "4. **Batch-Verarbeitung** - Verwenden Sie `pipeline.batch_query()`\n",
        "\n",
        "### Modulare Komponenten verwenden\n",
        "\n",
        "Die Pipeline verwendet echte modulare Komponenten:\n",
        "- `LineChunker` aus `src/components/chunkers/`\n",
        "- `OpenAIEmbedding` aus `src/components/embeddings/`\n",
        "- `InMemoryVectorStore` aus `src/components/vector_stores/`\n",
        "- `OpenAILanguageModel` aus `src/components/language_models/`\n",
        "\n",
        "Für erweiterte Funktionen können Sie neue Komponenten implementieren und in die Registry eintragen.\n"
      ]
    }
  ],
  "metadata": {
    "kernelspec": {
      "display_name": ".venv",
      "language": "python",
      "name": "python3"
    },
    "language_info": {
      "name": "python",
      "version": "3.12.8"
    }
  },
  "nbformat": 4,
  "nbformat_minor": 2
}
